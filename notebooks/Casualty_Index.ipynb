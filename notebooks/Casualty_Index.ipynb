{
 "cells": [
  {
   "cell_type": "code",
   "execution_count": null,
   "id": "c997adc1-c4a0-4af0-8318-496d7fa7f145",
   "metadata": {},
   "outputs": [],
   "source": [
    "import pandas as pd\n",
    "import numpy as np\n",
    "import matplotlib.pyplot as plt\n"
   ]
  },
  {
   "cell_type": "code",
   "execution_count": null,
   "id": "e6538659-3ecb-4051-adb6-7fcacb692e5f",
   "metadata": {},
   "outputs": [],
   "source": [
    "#load data into dataframe -- Working is subset of master with df['EVENT_TYPE'].isin(['Tornado','TORNADOES'])\n",
    "data= pd.read_csv('../notebooks/NRI_Table_Counties.csv')"
   ]
  },
  {
   "cell_type": "markdown",
   "id": "dbcbf4fa-0bc7-44c5-a880-85cceb1f307d",
   "metadata": {},
   "source": [
    "CRE Community resilience is the ability of a community to prepare for anticipated natural hazards, adapt to changing conditions, and withstand and recover rapidly from disruptions.\n",
    "\n",
    "Social Vulnerability refers to the demographic and socioeconomic factors (such as poverty, lack of access to transportation, and crowded housing) that adversely affect communities that encounter hazards and other community-level stressors.\n",
    "\n"
   ]
  },
  {
   "cell_type": "code",
   "execution_count": null,
   "id": "0b2b5869-628f-44b4-95a2-0ad2e625b000",
   "metadata": {},
   "outputs": [],
   "source": [
    "df = data[[\n",
    "    'COUNTY',\n",
    " 'COUNTYTYPE',\n",
    " 'COUNTYFIPS',\n",
    " 'STCOFIPS',\n",
    " 'POPULATION',  #Population (2020)\n",
    " 'BUILDVALUE',  #Building Value ($)\n",
    " 'AGRIVALUE', # Agriculture Value ($)\n",
    " 'RESL_SCORE', #Community Resilience - Score Higher = More Resiliant\n",
    " 'SOVI_SCORE',  #Social Vulnerability - Score == Higher =  More Vulnurable\n",
    "]] \n",
    "\n",
    "df.fillna(value=0.0, inplace=True)"
   ]
  },
  {
   "cell_type": "code",
   "execution_count": null,
   "id": "7c52ded9-5e5c-4e41-9e48-9cd7e6f51ce2",
   "metadata": {},
   "outputs": [],
   "source": [
    "# Devestation index taken as a multiple of Social Vulnerability and Community Resilience  \n",
    "df['Devastation_Index'] = df.apply(lambda row: (row['SOVI_SCORE'] * (100- row['RESL_SCORE']))/10000, axis=1)\n",
    "\n",
    "# Damage rate calculated per tornado damage compared by EF scale\n",
    "# Fatality and injury rate derived from past tornadoes average : https://www.ulm.edu/~tfricker/pdf/13.pdf#:~:text=In%20addition%2C%20the%20per%2D%20capita%20fatality%20rate,(EF1)%20to%20a%20high%20of%204.2%%20(EF5).\n",
    "\n",
    "columns = ['EF_Rating', 'Fatality_Rate', 'Injury_Rate', 'Damage_Rate']\n",
    "data = [('EF0', 0.0018, 0.0781, 0.0000323 )\n",
    "        , ('EF1', 0.0005, 0.0141 , 0.0003851)\n",
    "        , ('EF2', 0.0007, 0.0145 , 0.0029625)\n",
    "        , ('EF3', 0.0015, 0.0207 , 0.0217090)\n",
    "        , ('EF4', 0.0021, 0.0307, 0.0749111)\n",
    "        , ('EF5', 0.0062, 0.0417, 0.5941551 )\n",
    "       ]\n",
    "\n",
    "df_EF = pd.DataFrame(data, columns=columns)\n"
   ]
  },
  {
   "cell_type": "code",
   "execution_count": null,
   "id": "175d7620-053b-45a0-902b-fe0a54e485d5",
   "metadata": {},
   "outputs": [],
   "source": [
    "# Create Columns For Damage scores \n",
    "for index, row in df_EF.iterrows():\n",
    "    #print( row['EF_Rating'], row['Fatality_Rate'], row['Injury_Rate'])\n",
    "    df['Fatality'+'_'+row['EF_Rating']] = df['Devastation_Index'] * row['Fatality_Rate'] * df['POPULATION'] \n",
    "    df['Injury'+'_'+row['EF_Rating']] = df['Devastation_Index'] * row['Injury_Rate'] * df['POPULATION'] \n",
    "    df['Damage'+'_'+row['EF_Rating']] = df['Devastation_Index'] * row['Damage_Rate'] * df['BUILDVALUE']"
   ]
  },
  {
   "cell_type": "code",
   "execution_count": null,
   "id": "60a9e6b5-8a95-479d-aeb9-2818e4bd98b2",
   "metadata": {},
   "outputs": [],
   "source": [
    "#Add to Csv file\n",
    "df.to_csv('Tornado_Damage_By_County.csv')"
   ]
  },
  {
   "cell_type": "code",
   "execution_count": null,
   "id": "cdaba21c-6909-4bc1-a627-9a18abf90500",
   "metadata": {},
   "outputs": [],
   "source": []
  },
  {
   "cell_type": "code",
   "execution_count": null,
   "id": "d1036a7b-607b-4fc4-b87e-07b53b28ea6f",
   "metadata": {},
   "outputs": [],
   "source": []
  },
  {
   "cell_type": "code",
   "execution_count": null,
   "id": "be394694-afd2-4665-88d4-68fbefe23974",
   "metadata": {},
   "outputs": [],
   "source": []
  }
 ],
 "metadata": {
  "kernelspec": {
   "display_name": "Python 3 (ipykernel)",
   "language": "python",
   "name": "python3"
  },
  "language_info": {
   "codemirror_mode": {
    "name": "ipython",
    "version": 3
   },
   "file_extension": ".py",
   "mimetype": "text/x-python",
   "name": "python",
   "nbconvert_exporter": "python",
   "pygments_lexer": "ipython3",
   "version": "3.8.5"
  }
 },
 "nbformat": 4,
 "nbformat_minor": 5
}
